{
 "cells": [
  {
   "cell_type": "markdown",
   "id": "ed7ae292-bb16-4b2b-9756-7239588a7769",
   "metadata": {},
   "source": [
    "# 1. Governing thought"
   ]
  },
  {
   "cell_type": "markdown",
   "id": "80f8966a-0d37-48e2-abfa-c5df792e286d",
   "metadata": {},
   "source": [
    "This is our primary message. It’s the thing that actually, really, truly matters. If we have several of these, we need to think a level up. What is the core theme here? What is the question we’re really trying to answer?"
   ]
  },
  {
   "cell_type": "code",
   "execution_count": 1,
   "id": "1df23dad-ac1c-404d-b992-9a374ee9cb9a",
   "metadata": {},
   "outputs": [
    {
     "data": {
      "text/plain": [
       "'\\nThe primary message of this chapter is to provide a \\ncomprehensive comparison of different plotting libraries in \\nPython for creating bar charts. The core theme of this chapter \\nis to demonstrate how each library has its own unique strengths \\nand weaknesses when it comes to plotting bar charts.\\n'"
      ]
     },
     "execution_count": 1,
     "metadata": {},
     "output_type": "execute_result"
    }
   ],
   "source": [
    "# We need to:\n",
    "\n",
    "'''\n",
    "The primary message of this chapter is to provide a \n",
    "comprehensive comparison of different plotting libraries in \n",
    "Python for creating bar charts. The core theme of this chapter \n",
    "is to demonstrate how each library has its own unique strengths \n",
    "and weaknesses when it comes to plotting bar charts.\n",
    "'''"
   ]
  },
  {
   "cell_type": "markdown",
   "id": "67cb96a7-8d71-4aac-aa8a-15f004605141",
   "metadata": {},
   "source": [
    "# 2. Supporting thoughts"
   ]
  },
  {
   "cell_type": "markdown",
   "id": "9f155117-3392-4514-a977-b00b8be371a3",
   "metadata": {},
   "source": [
    "What are our supporting thoughts? If the governing thought is a tree trunk, these are the branches. If the governing thought is the “what,” then this is the “why.”\n",
    "\n",
    "Think of it like a lawyer preparing her arguments. “Not guilty” may be the governing thought, but why?\n",
    "\n",
    "Our supporting thoughts should be independent of each other, with no overlaps, and complete enough to make the argument. This is another principle of McKinsey called MECE, or mutually exclusive, collectively exhaustive."
   ]
  },
  {
   "cell_type": "code",
   "execution_count": 2,
   "id": "bd9c2174-b6ed-4329-9a61-1f81b2605fcc",
   "metadata": {},
   "outputs": [
    {
     "data": {
      "text/plain": [
       "'\\na. Pandas:\\nPandas is a popular data analysis library that has its own \\nplotting functionality. This section will explore how to create \\nbar charts using the pandas library and highlight its pros and cons.\\n'"
      ]
     },
     "execution_count": 2,
     "metadata": {},
     "output_type": "execute_result"
    }
   ],
   "source": [
    "# Why 1:\n",
    "\n",
    "'''\n",
    "a. Pandas:\n",
    "Pandas is a popular data analysis library that has its own \n",
    "plotting functionality. This section will explore how to create \n",
    "bar charts using the pandas library and highlight its pros and cons.\n",
    "'''"
   ]
  },
  {
   "cell_type": "code",
   "execution_count": 3,
   "id": "db4ae576-fa3e-4527-958d-f53112031424",
   "metadata": {},
   "outputs": [
    {
     "data": {
      "text/plain": [
       "'\\nb. Plotly:\\nPlotly is a powerful interactive visualization library that \\ncan create visually appealing and interactive bar charts. \\nThis section will demonstrate how to create bar charts using \\nplotly and discuss its strengths and limitations.\\n'"
      ]
     },
     "execution_count": 3,
     "metadata": {},
     "output_type": "execute_result"
    }
   ],
   "source": [
    "# Why 2:\n",
    "\n",
    "'''\n",
    "b. Plotly:\n",
    "Plotly is a powerful interactive visualization library that \n",
    "can create visually appealing and interactive bar charts. \n",
    "This section will demonstrate how to create bar charts using \n",
    "plotly and discuss its strengths and limitations.\n",
    "'''"
   ]
  },
  {
   "cell_type": "code",
   "execution_count": 4,
   "id": "61b9b6f8-8c7c-415e-a6f0-1629e5b15342",
   "metadata": {},
   "outputs": [
    {
     "data": {
      "text/plain": [
       "'\\nc. Seaborn:\\nSeaborn is a statistical data visualization library that can \\nbe used to create aesthetically pleasing and informative bar \\ncharts. This section will explore how to create bar charts using \\nseaborn and discuss its features and limitations.\\n'"
      ]
     },
     "execution_count": 4,
     "metadata": {},
     "output_type": "execute_result"
    }
   ],
   "source": [
    "# Why 3:\n",
    "'''\n",
    "c. Seaborn:\n",
    "Seaborn is a statistical data visualization library that can \n",
    "be used to create aesthetically pleasing and informative bar \n",
    "charts. This section will explore how to create bar charts using \n",
    "seaborn and discuss its features and limitations.\n",
    "'''"
   ]
  },
  {
   "cell_type": "code",
   "execution_count": null,
   "id": "7f64d304-7682-4406-87aa-9e205119ab67",
   "metadata": {},
   "outputs": [],
   "source": [
    "'''\n",
    "d. Matplotlib:\n",
    "Matplotlib is a widely used data visualization library in Python that offers various options for creating bar charts. \n",
    "This section will explore how to create bar charts using Matplotlib and discuss its strengths and limitations.\n",
    "It will also compare Matplotlib with the other libraries in terms of ease of use, \n",
    "customization options, and visualization capabilities.\n",
    "'''"
   ]
  },
  {
   "cell_type": "markdown",
   "id": "37249521-ea54-4dd5-8c69-1fbbd120d739",
   "metadata": {},
   "source": [
    "# 3. Facts and data"
   ]
  },
  {
   "cell_type": "raw",
   "id": "8651bb8e-38c4-4810-915f-0b1b886e0870",
   "metadata": {},
   "source": [
    "Now is the time for all the minutiae to come in. The beauty of taking this approach, though, is that not all of it will matter. We may find that things on our mind really don’t have a place in this structure. That probably means that we’ve been so focused on the detail that we’ve lost sight of the message.\n",
    "\n",
    "Take the supporting thoughts one-by-one. What are the facts and data underpinning each supporting thought? If supporting thoughts are the branches, these are the leaves and flowers. If supporting thoughts are the “why,” then these are the “why” and “how” of each one."
   ]
  },
  {
   "cell_type": "code",
   "execution_count": 5,
   "id": "26aae4f9-b4ed-47f0-8e88-226686f36734",
   "metadata": {},
   "outputs": [
    {
     "data": {
      "text/plain": [
       "'\\nFacts and data:\\nFor each supporting thought, we will delve into the details of \\nhow to create bar charts using the respective library, what \\nparameters and customization options are available, and how \\neach library handles various aspects of bar chart plotting such \\nas handling missing data, labeling, and coloring. We will also \\nprovide sample datasets to demonstrate how to plot the same data \\nusing each library.\\nBy following the pyramid principle and structuring your chapter\\nin this way, you can present your readers with a clear and organized \\ncomparison of different plotting libraries for creating bar charts in\\nPython.\\n'"
      ]
     },
     "execution_count": 5,
     "metadata": {},
     "output_type": "execute_result"
    }
   ],
   "source": [
    "# “why” and “how”\n",
    "\n",
    "'''\n",
    "Facts and data:\n",
    "For each supporting thought, we will delve into the details of \n",
    "how to create bar charts using the respective library, what \n",
    "parameters and customization options are available, and how \n",
    "each library handles various aspects of bar chart plotting such \n",
    "as handling missing data, labeling, and coloring. We will also \n",
    "provide sample datasets to demonstrate how to plot the same data \n",
    "using each library.\n",
    "By following the pyramid principle and structuring your chapter\n",
    "in this way, you can present your readers with a clear and organized \n",
    "comparison of different plotting libraries for creating bar charts in\n",
    "Python.\n",
    "'''"
   ]
  }
 ],
 "metadata": {
  "kernelspec": {
   "display_name": "Python 3 (ipykernel)",
   "language": "python",
   "name": "python3"
  },
  "language_info": {
   "codemirror_mode": {
    "name": "ipython",
    "version": 3
   },
   "file_extension": ".py",
   "mimetype": "text/x-python",
   "name": "python",
   "nbconvert_exporter": "python",
   "pygments_lexer": "ipython3",
   "version": "3.9.13"
  }
 },
 "nbformat": 4,
 "nbformat_minor": 5
}
